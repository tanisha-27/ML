{
  "nbformat": 4,
  "nbformat_minor": 0,
  "metadata": {
    "colab": {
      "name": "Experiment_7_2.ipynb",
      "provenance": [],
      "authorship_tag": "ABX9TyOiKhVbJA14wX3tFQdswKeM",
      "include_colab_link": true
    },
    "kernelspec": {
      "name": "python3",
      "display_name": "Python 3"
    }
  },
  "cells": [
    {
      "cell_type": "markdown",
      "metadata": {
        "id": "view-in-github",
        "colab_type": "text"
      },
      "source": [
        "<a href=\"https://colab.research.google.com/github/ParishaKB/ML/blob/master/Experiment_7/Experiment_7_2.ipynb\" target=\"_parent\"><img src=\"https://colab.research.google.com/assets/colab-badge.svg\" alt=\"Open In Colab\"/></a>"
      ]
    },
    {
      "cell_type": "code",
      "metadata": {
        "colab_type": "code",
        "id": "qRvOZy6cUcmR",
        "colab": {}
      },
      "source": [
        "import pandas as pd\n",
        "import numpy as np\n",
        "from sklearn.datasets import fetch_covtype, fetch_kddcup99, fetch_lfw_pairs, fetch_lfw_people, fetch_olivetti_faces\n",
        "from sklearn.datasets import fetch_rcv1, load_breast_cancer, load_digits, load_wine"
      ],
      "execution_count": 1,
      "outputs": []
    },
    {
      "cell_type": "code",
      "metadata": {
        "colab_type": "code",
        "id": "Md0CGMe8XZAr",
        "colab": {}
      },
      "source": [
        "from sklearn.model_selection import train_test_split\n",
        "from sklearn.preprocessing import LabelEncoder, StandardScaler\n",
        "from scipy.sparse import csr_matrix\n",
        "import matplotlib.pyplot as plt"
      ],
      "execution_count": 2,
      "outputs": []
    },
    {
      "cell_type": "code",
      "metadata": {
        "colab_type": "code",
        "id": "J2HN_WLXatPP",
        "colab": {}
      },
      "source": [
        "from keras import models\n",
        "from keras import layers\n",
        "from keras.utils import to_categorical"
      ],
      "execution_count": 3,
      "outputs": []
    },
    {
      "cell_type": "markdown",
      "metadata": {
        "colab_type": "text",
        "id": "k488g80SepgH"
      },
      "source": [
        "Fetch CupKdd99"
      ]
    },
    {
      "cell_type": "markdown",
      "metadata": {
        "colab_type": "text",
        "id": "-YnkajjTeqI7"
      },
      "source": [
        "Loading and Preprocessing the Data"
      ]
    },
    {
      "cell_type": "code",
      "metadata": {
        "colab_type": "code",
        "id": "oupaHuRqe3dP",
        "colab": {
          "base_uri": "https://localhost:8080/",
          "height": 34
        },
        "outputId": "141bc578-a592-4c91-8975-0891dce6781b"
      },
      "source": [
        "kddcup99 = fetch_kddcup99()\n",
        "x_fetch_kddcup99 = kddcup99.data\n",
        "y_fetch_kddcup99 = kddcup99.target"
      ],
      "execution_count": 4,
      "outputs": [
        {
          "output_type": "stream",
          "text": [
            "Downloading https://ndownloader.figshare.com/files/5976042\n"
          ],
          "name": "stderr"
        }
      ]
    },
    {
      "cell_type": "code",
      "metadata": {
        "colab_type": "code",
        "id": "mmtJpHXWfNIP",
        "colab": {
          "base_uri": "https://localhost:8080/",
          "height": 50
        },
        "outputId": "6135f9bd-5850-4e14-f23a-120f213a7499"
      },
      "source": [
        "x_kdd = pd.DataFrame(x_fetch_kddcup99)\n",
        "y_kdd = pd.DataFrame(y_fetch_kddcup99)\n",
        "print(x_kdd.shape)\n",
        "print(y_kdd.shape)"
      ],
      "execution_count": 5,
      "outputs": [
        {
          "output_type": "stream",
          "text": [
            "(494021, 41)\n",
            "(494021, 1)\n"
          ],
          "name": "stdout"
        }
      ]
    },
    {
      "cell_type": "code",
      "metadata": {
        "colab_type": "code",
        "id": "kuhwPWgYowGx",
        "colab": {}
      },
      "source": [
        "le = LabelEncoder()\n",
        "for i in [1,2,3]:\n",
        "  x_kdd[i] = [j.decode('utf-8') for j in x_kdd[i]]\n",
        "  x_kdd[i] = le.fit_transform(x_kdd[i])\n",
        "\n",
        "for i in range(x_kdd.shape[1]):\n",
        "  x_kdd[i] = x_kdd[i].astype('float')"
      ],
      "execution_count": 6,
      "outputs": []
    },
    {
      "cell_type": "code",
      "metadata": {
        "colab_type": "code",
        "id": "0qzkpaGGkFvl",
        "colab": {}
      },
      "source": [
        "y_kdd99 = [i.decode('utf-8') for i in y_fetch_kddcup99]\n",
        "y_kdd99 = pd.DataFrame(le.fit_transform(y_kdd99))"
      ],
      "execution_count": 7,
      "outputs": []
    },
    {
      "cell_type": "markdown",
      "metadata": {
        "colab_type": "text",
        "id": "HQrMdP9PqE-l"
      },
      "source": [
        "Making A Neural Network"
      ]
    },
    {
      "cell_type": "code",
      "metadata": {
        "colab_type": "code",
        "id": "23iz8QNifiwF",
        "colab": {
          "base_uri": "https://localhost:8080/",
          "height": 118
        },
        "outputId": "ed2c0d44-5679-4593-a0de-a7523f899919"
      },
      "source": [
        "y_kdd99 = to_categorical(y_kdd99)\n",
        "x_train, x_test, y_train, y_test = train_test_split(x_kdd, y_kdd99, test_size = 0.2)\n",
        "x_dev, x_test, y_dev, y_test = train_test_split(x_test, y_test, test_size = 0.5)\n",
        "print(x_train.shape)\n",
        "print(x_dev.shape)\n",
        "print(x_test.shape)\n",
        "print(y_train.shape)\n",
        "print(y_dev.shape)\n",
        "print(y_test.shape)"
      ],
      "execution_count": 8,
      "outputs": [
        {
          "output_type": "stream",
          "text": [
            "(395216, 41)\n",
            "(49402, 41)\n",
            "(49403, 41)\n",
            "(395216, 23)\n",
            "(49402, 23)\n",
            "(49403, 23)\n"
          ],
          "name": "stdout"
        }
      ]
    },
    {
      "cell_type": "code",
      "metadata": {
        "colab_type": "code",
        "id": "Iry-cstVnTaw",
        "colab": {}
      },
      "source": [
        "nn_kdd99 = models.Sequential()\n",
        "nn_kdd99.add(layers.Dense(256, activation = 'relu', input_shape = (41, )))\n",
        "nn_kdd99.add(layers.Dense(128, activation = 'relu'))\n",
        "nn_kdd99.add(layers.Dense(64, activation = 'relu'))\n",
        "nn_kdd99.add(layers.Dense(32, activation = 'relu'))\n",
        "nn_kdd99.add(layers.Dense(23, activation = 'softmax'))\n",
        "nn_kdd99.compile(optimizer = 'rmsprop', loss = 'categorical_crossentropy', metrics = ['accuracy'])"
      ],
      "execution_count": 9,
      "outputs": []
    },
    {
      "cell_type": "code",
      "metadata": {
        "colab_type": "code",
        "id": "us-4qHGuniZo",
        "colab": {
          "base_uri": "https://localhost:8080/",
          "height": 406
        },
        "outputId": "65a88a5b-c38e-43fb-afd8-77bc6e33555f"
      },
      "source": [
        "kdd99_history = nn_kdd99.fit(x_train, y_train, epochs = 10, batch_size = 1000, validation_data = (x_dev, y_dev))\n",
        "kdd99_dev_acc = nn_kdd99.evaluate(x_dev, y_dev)[1]\n",
        "print('The dev accuracy is', kdd99_dev_acc)"
      ],
      "execution_count": 10,
      "outputs": [
        {
          "output_type": "stream",
          "text": [
            "Epoch 1/10\n",
            "396/396 [==============================] - 4s 11ms/step - loss: 140.0702 - accuracy: 0.9613 - val_loss: 6.2907 - val_accuracy: 0.9924\n",
            "Epoch 2/10\n",
            "396/396 [==============================] - 4s 10ms/step - loss: 74.3286 - accuracy: 0.9810 - val_loss: 3.0727 - val_accuracy: 0.9517\n",
            "Epoch 3/10\n",
            "396/396 [==============================] - 4s 10ms/step - loss: 183.2789 - accuracy: 0.9862 - val_loss: 1.2989 - val_accuracy: 0.9964\n",
            "Epoch 4/10\n",
            "396/396 [==============================] - 4s 10ms/step - loss: 47.0215 - accuracy: 0.9880 - val_loss: 1.5972 - val_accuracy: 0.9934\n",
            "Epoch 5/10\n",
            "396/396 [==============================] - 4s 10ms/step - loss: 15.1443 - accuracy: 0.9888 - val_loss: 0.4739 - val_accuracy: 0.9948\n",
            "Epoch 6/10\n",
            "396/396 [==============================] - 4s 10ms/step - loss: 1.2348 - accuracy: 0.9889 - val_loss: 1.7670 - val_accuracy: 0.9920\n",
            "Epoch 7/10\n",
            "396/396 [==============================] - 4s 10ms/step - loss: 0.3542 - accuracy: 0.9893 - val_loss: 0.0353 - val_accuracy: 0.9921\n",
            "Epoch 8/10\n",
            "396/396 [==============================] - 4s 10ms/step - loss: 0.3446 - accuracy: 0.9900 - val_loss: 0.0481 - val_accuracy: 0.9944\n",
            "Epoch 9/10\n",
            "396/396 [==============================] - 4s 10ms/step - loss: 0.2568 - accuracy: 0.9924 - val_loss: 0.0516 - val_accuracy: 0.9927\n",
            "Epoch 10/10\n",
            "396/396 [==============================] - 4s 10ms/step - loss: 0.2498 - accuracy: 0.9889 - val_loss: 0.0256 - val_accuracy: 0.9934\n",
            "1544/1544 [==============================] - 1s 829us/step - loss: 0.0256 - accuracy: 0.9934\n",
            "The dev accuracy is 0.9934415817260742\n"
          ],
          "name": "stdout"
        }
      ]
    },
    {
      "cell_type": "markdown",
      "metadata": {
        "colab_type": "text",
        "id": "LDpXqUZwnz9C"
      },
      "source": [
        "Plotting Accuracy & Validation Accuracy with Epoch\n",
        "\n",
        "Plotting Loss & Validation Loss with Epoch"
      ]
    },
    {
      "cell_type": "code",
      "metadata": {
        "colab_type": "code",
        "id": "gXz63xx1n1MH",
        "colab": {
          "base_uri": "https://localhost:8080/",
          "height": 899
        },
        "outputId": "40c4b798-8d2a-4c1b-8c44-9ed9b84541d2"
      },
      "source": [
        "plt.figure(figsize = (10,7))\n",
        "plt.plot(kdd99_history.history['accuracy'], color = 'blue')\n",
        "plt.plot(kdd99_history.history['val_accuracy'], color = 'red')\n",
        "plt.title('Model accuracy')\n",
        "plt.ylabel('Accuracy')\n",
        "plt.xlabel('Epoch')\n",
        "plt.legend(['Train', 'Validation'], loc='upper left')\n",
        "plt.show()\n",
        "\n",
        "plt.figure(figsize = (10,7))\n",
        "plt.plot(kdd99_history.history['loss'], color = 'blue')\n",
        "plt.plot(kdd99_history.history['val_loss'], color = 'red')\n",
        "plt.ylim((0,3))\n",
        "plt.title('Model loss')\n",
        "plt.ylabel('Loss')\n",
        "plt.xlabel('Epoch')\n",
        "plt.legend(['Train', 'Validation'], loc='upper left')\n",
        "plt.show()"
      ],
      "execution_count": 11,
      "outputs": [
        {
          "output_type": "display_data",
          "data": {
            "image/png": "[encoded data removed]",
            "text/plain": [
              "<Figure size 720x504 with 1 Axes>"
            ]
          },
          "metadata": {
            "tags": [],
            "needs_background": "light"
          }
        },
        {
          "output_type": "display_data",
          "data": {
            "image/png": "[encoded data removed]",
            "text/plain": [
              "<Figure size 720x504 with 1 Axes>"
            ]
          },
          "metadata": {
            "tags": [],
            "needs_background": "light"
          }
        }
      ]
    },
    {
      "cell_type": "code",
      "metadata": {
        "colab_type": "code",
        "id": "CeF-VWhYn63U",
        "colab": {
          "base_uri": "https://localhost:8080/",
          "height": 70
        },
        "outputId": "94c1311c-2a9a-4c2f-cb1a-fc13e28ef6a8"
      },
      "source": [
        "kdd99_test_acc = nn_kdd99.evaluate(x_test, y_test)[1]\n",
        "print('The test accuracy is', kdd99_test_acc)"
      ],
      "execution_count": 12,
      "outputs": [
        {
          "output_type": "stream",
          "text": [
            "1544/1544 [==============================] - 1s 813us/step - loss: 0.0315 - accuracy: 0.9936\n",
            "The test accuracy is 0.9935833811759949\n"
          ],
          "name": "stdout"
        }
      ]
    }
  ]
}