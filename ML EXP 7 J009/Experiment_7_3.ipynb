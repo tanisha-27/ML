{
  "nbformat": 4,
  "nbformat_minor": 0,
  "metadata": {
    "colab": {
      "name": "Experiment_7_3.ipynb",
      "provenance": [],
      "authorship_tag": "ABX9TyOrw7U4jpaJIc20+mRxx165",
      "include_colab_link": true
    },
    "kernelspec": {
      "name": "python3",
      "display_name": "Python 3"
    }
  },
  "cells": [
    {
      "cell_type": "markdown",
      "metadata": {
        "id": "view-in-github",
        "colab_type": "text"
      },
      "source": [
        "<a href=\"https://colab.research.google.com/github/ParishaKB/ML/blob/master/Experiment_7/Experiment_7_3.ipynb\" target=\"_parent\"><img src=\"https://colab.research.google.com/assets/colab-badge.svg\" alt=\"Open In Colab\"/></a>"
      ]
    },
    {
      "cell_type": "code",
      "metadata": {
        "colab_type": "code",
        "id": "qRvOZy6cUcmR",
        "colab": {}
      },
      "source": [
        "import pandas as pd\n",
        "import numpy as np\n",
        "from sklearn.datasets import fetch_covtype, fetch_kddcup99, fetch_lfw_pairs, fetch_lfw_people, fetch_olivetti_faces\n",
        "from sklearn.datasets import fetch_rcv1, load_breast_cancer, load_digits, load_wine"
      ],
      "execution_count": 1,
      "outputs": []
    },
    {
      "cell_type": "code",
      "metadata": {
        "colab_type": "code",
        "id": "Md0CGMe8XZAr",
        "colab": {}
      },
      "source": [
        "from sklearn.model_selection import train_test_split\n",
        "from sklearn.preprocessing import LabelEncoder, StandardScaler\n",
        "from scipy.sparse import csr_matrix\n",
        "import matplotlib.pyplot as plt"
      ],
      "execution_count": 2,
      "outputs": []
    },
    {
      "cell_type": "code",
      "metadata": {
        "colab_type": "code",
        "id": "J2HN_WLXatPP",
        "colab": {}
      },
      "source": [
        "from keras import models\n",
        "from keras import layers\n",
        "from keras.utils import to_categorical"
      ],
      "execution_count": 3,
      "outputs": []
    },
    {
      "cell_type": "markdown",
      "metadata": {
        "colab_type": "text",
        "id": "Il4XUxkLFR8s"
      },
      "source": [
        "Breast Cancer Dataset"
      ]
    },
    {
      "cell_type": "code",
      "metadata": {
        "colab_type": "code",
        "id": "9z2B-lakFPL4",
        "colab": {}
      },
      "source": [
        "cancer = load_breast_cancer()\n",
        "x_load_breast_cancer = cancer.data\n",
        "y_load_breast_cancer = cancer.target"
      ],
      "execution_count": 4,
      "outputs": []
    },
    {
      "cell_type": "code",
      "metadata": {
        "colab_type": "code",
        "id": "Sg0OdQzBFX2L",
        "colab": {
          "base_uri": "https://localhost:8080/",
          "height": 50
        },
        "outputId": "5c77561e-3ed0-4848-f570-cfd2372b801d"
      },
      "source": [
        "x_cancer = pd.DataFrame(x_load_breast_cancer)\n",
        "y_cancer = pd.DataFrame(y_load_breast_cancer)\n",
        "print(x_cancer.shape)\n",
        "print(y_cancer.shape)"
      ],
      "execution_count": 5,
      "outputs": [
        {
          "output_type": "stream",
          "text": [
            "(569, 30)\n",
            "(569, 1)\n"
          ],
          "name": "stdout"
        }
      ]
    },
    {
      "cell_type": "code",
      "metadata": {
        "colab_type": "code",
        "id": "o6mnfcBaH8QC",
        "colab": {}
      },
      "source": [
        "sc = StandardScaler()\n",
        "x_cancer = pd.DataFrame(sc.fit_transform(x_cancer))"
      ],
      "execution_count": 6,
      "outputs": []
    },
    {
      "cell_type": "code",
      "metadata": {
        "colab_type": "code",
        "id": "yJEUlRCpFjVp",
        "colab": {
          "base_uri": "https://localhost:8080/",
          "height": 118
        },
        "outputId": "dc2ce83c-abe5-4988-da96-10689ee705f8"
      },
      "source": [
        "x_train, x_test, y_train, y_test = train_test_split(x_cancer, y_cancer, test_size = 0.2, shuffle = True)\n",
        "x_dev, x_test, y_dev, y_test = train_test_split(x_test, y_test, test_size = 0.5, shuffle = True)\n",
        "print(x_train.shape)\n",
        "print(x_dev.shape)\n",
        "print(x_test.shape)\n",
        "print(y_train.shape)\n",
        "print(y_dev.shape)\n",
        "print(y_test.shape)"
      ],
      "execution_count": 7,
      "outputs": [
        {
          "output_type": "stream",
          "text": [
            "(455, 30)\n",
            "(57, 30)\n",
            "(57, 30)\n",
            "(455, 1)\n",
            "(57, 1)\n",
            "(57, 1)\n"
          ],
          "name": "stdout"
        }
      ]
    },
    {
      "cell_type": "code",
      "metadata": {
        "colab_type": "code",
        "id": "nG7wUh6gFniy",
        "colab": {}
      },
      "source": [
        "nn_cancer = models.Sequential()\n",
        "\n",
        "nn_cancer.add(layers.Dense(128, activation = 'relu', input_shape = (30, )))\n",
        "nn_cancer.add(layers.Dense(64, activation = 'relu'))\n",
        "nn_cancer.add(layers.Dense(1, activation = 'sigmoid'))\n",
        "\n",
        "nn_cancer.compile(optimizer = 'sgd', loss = 'binary_crossentropy', metrics = ['accuracy'])"
      ],
      "execution_count": 8,
      "outputs": []
    },
    {
      "cell_type": "code",
      "metadata": {
        "colab_type": "code",
        "id": "AXjhgwG2FptR",
        "colab": {
          "base_uri": "https://localhost:8080/",
          "height": 1000
        },
        "outputId": "2693dd62-14c2-44aa-cd56-0f113f3f8a32"
      },
      "source": [
        "cancer_history = nn_cancer.fit(x_train, y_train, epochs = 30, validation_data = (x_dev, y_dev))\n",
        "\n",
        "cancer_dev_acc = nn_cancer.evaluate(x_dev, y_dev)[1]\n",
        "print('The dev accuracy is', cancer_dev_acc)"
      ],
      "execution_count": 9,
      "outputs": [
        {
          "output_type": "stream",
          "text": [
            "Epoch 1/30\n",
            "15/15 [==============================] - 0s 15ms/step - loss: 0.6428 - accuracy: 0.7055 - val_loss: 0.5656 - val_accuracy: 0.8246\n",
            "Epoch 2/30\n",
            "15/15 [==============================] - 0s 2ms/step - loss: 0.4982 - accuracy: 0.9033 - val_loss: 0.4791 - val_accuracy: 0.8772\n",
            "Epoch 3/30\n",
            "15/15 [==============================] - 0s 2ms/step - loss: 0.4173 - accuracy: 0.9385 - val_loss: 0.4250 - val_accuracy: 0.8772\n",
            "Epoch 4/30\n",
            "15/15 [==============================] - 0s 2ms/step - loss: 0.3609 - accuracy: 0.9407 - val_loss: 0.3857 - val_accuracy: 0.8772\n",
            "Epoch 5/30\n",
            "15/15 [==============================] - 0s 2ms/step - loss: 0.3193 - accuracy: 0.9451 - val_loss: 0.3561 - val_accuracy: 0.8772\n",
            "Epoch 6/30\n",
            "15/15 [==============================] - 0s 2ms/step - loss: 0.2871 - accuracy: 0.9516 - val_loss: 0.3323 - val_accuracy: 0.8772\n",
            "Epoch 7/30\n",
            "15/15 [==============================] - 0s 2ms/step - loss: 0.2605 - accuracy: 0.9538 - val_loss: 0.3130 - val_accuracy: 0.8947\n",
            "Epoch 8/30\n",
            "15/15 [==============================] - 0s 2ms/step - loss: 0.2393 - accuracy: 0.9538 - val_loss: 0.2980 - val_accuracy: 0.8947\n",
            "Epoch 9/30\n",
            "15/15 [==============================] - 0s 2ms/step - loss: 0.2218 - accuracy: 0.9538 - val_loss: 0.2856 - val_accuracy: 0.8947\n",
            "Epoch 10/30\n",
            "15/15 [==============================] - 0s 2ms/step - loss: 0.2072 - accuracy: 0.9604 - val_loss: 0.2746 - val_accuracy: 0.8947\n",
            "Epoch 11/30\n",
            "15/15 [==============================] - 0s 3ms/step - loss: 0.1951 - accuracy: 0.9604 - val_loss: 0.2644 - val_accuracy: 0.8947\n",
            "Epoch 12/30\n",
            "15/15 [==============================] - 0s 2ms/step - loss: 0.1847 - accuracy: 0.9604 - val_loss: 0.2550 - val_accuracy: 0.8947\n",
            "Epoch 13/30\n",
            "15/15 [==============================] - 0s 2ms/step - loss: 0.1754 - accuracy: 0.9604 - val_loss: 0.2474 - val_accuracy: 0.8947\n",
            "Epoch 14/30\n",
            "15/15 [==============================] - 0s 3ms/step - loss: 0.1678 - accuracy: 0.9626 - val_loss: 0.2395 - val_accuracy: 0.9123\n",
            "Epoch 15/30\n",
            "15/15 [==============================] - 0s 2ms/step - loss: 0.1610 - accuracy: 0.9648 - val_loss: 0.2331 - val_accuracy: 0.9123\n",
            "Epoch 16/30\n",
            "15/15 [==============================] - 0s 2ms/step - loss: 0.1547 - accuracy: 0.9648 - val_loss: 0.2272 - val_accuracy: 0.9123\n",
            "Epoch 17/30\n",
            "15/15 [==============================] - 0s 2ms/step - loss: 0.1492 - accuracy: 0.9626 - val_loss: 0.2202 - val_accuracy: 0.9123\n",
            "Epoch 18/30\n",
            "15/15 [==============================] - 0s 2ms/step - loss: 0.1441 - accuracy: 0.9648 - val_loss: 0.2153 - val_accuracy: 0.9123\n",
            "Epoch 19/30\n",
            "15/15 [==============================] - 0s 2ms/step - loss: 0.1396 - accuracy: 0.9670 - val_loss: 0.2091 - val_accuracy: 0.9123\n",
            "Epoch 20/30\n",
            "15/15 [==============================] - 0s 2ms/step - loss: 0.1352 - accuracy: 0.9648 - val_loss: 0.2045 - val_accuracy: 0.9123\n",
            "Epoch 21/30\n",
            "15/15 [==============================] - 0s 2ms/step - loss: 0.1316 - accuracy: 0.9670 - val_loss: 0.2000 - val_accuracy: 0.9123\n",
            "Epoch 22/30\n",
            "15/15 [==============================] - 0s 2ms/step - loss: 0.1281 - accuracy: 0.9670 - val_loss: 0.1951 - val_accuracy: 0.9123\n",
            "Epoch 23/30\n",
            "15/15 [==============================] - 0s 2ms/step - loss: 0.1247 - accuracy: 0.9648 - val_loss: 0.1914 - val_accuracy: 0.9123\n",
            "Epoch 24/30\n",
            "15/15 [==============================] - 0s 2ms/step - loss: 0.1218 - accuracy: 0.9670 - val_loss: 0.1868 - val_accuracy: 0.9123\n",
            "Epoch 25/30\n",
            "15/15 [==============================] - 0s 2ms/step - loss: 0.1192 - accuracy: 0.9648 - val_loss: 0.1830 - val_accuracy: 0.9123\n",
            "Epoch 26/30\n",
            "15/15 [==============================] - 0s 2ms/step - loss: 0.1166 - accuracy: 0.9648 - val_loss: 0.1796 - val_accuracy: 0.9123\n",
            "Epoch 27/30\n",
            "15/15 [==============================] - 0s 2ms/step - loss: 0.1142 - accuracy: 0.9648 - val_loss: 0.1767 - val_accuracy: 0.9123\n",
            "Epoch 28/30\n",
            "15/15 [==============================] - 0s 2ms/step - loss: 0.1119 - accuracy: 0.9648 - val_loss: 0.1732 - val_accuracy: 0.9123\n",
            "Epoch 29/30\n",
            "15/15 [==============================] - 0s 2ms/step - loss: 0.1098 - accuracy: 0.9648 - val_loss: 0.1700 - val_accuracy: 0.9123\n",
            "Epoch 30/30\n",
            "15/15 [==============================] - 0s 2ms/step - loss: 0.1078 - accuracy: 0.9670 - val_loss: 0.1670 - val_accuracy: 0.9298\n",
            "2/2 [==============================] - 0s 2ms/step - loss: 0.1670 - accuracy: 0.9298\n",
            "The dev accuracy is 0.9298245906829834\n"
          ],
          "name": "stdout"
        }
      ]
    },
    {
      "cell_type": "markdown",
      "metadata": {
        "colab_type": "text",
        "id": "tpPB80RNFs07"
      },
      "source": [
        "Plotting Accuracy & Validation Accuracy with Epoch\n",
        "\n",
        "Plotting Loss & Validation Loss with Epoch"
      ]
    },
    {
      "cell_type": "code",
      "metadata": {
        "colab_type": "code",
        "id": "TzHb2x3IFtKR",
        "colab": {
          "base_uri": "https://localhost:8080/",
          "height": 899
        },
        "outputId": "effe10ed-efe1-4de5-81a7-983247c59997"
      },
      "source": [
        "plt.figure(figsize = (10,7))\n",
        "plt.plot(cancer_history.history['accuracy'], color = 'blue')\n",
        "plt.plot(cancer_history.history['val_accuracy'], color = 'red')\n",
        "plt.title('Model accuracy')\n",
        "plt.ylabel('Accuracy')\n",
        "plt.xlabel('Epoch')\n",
        "plt.legend(['Train', 'Validation'], loc='upper left')\n",
        "plt.show()\n",
        "\n",
        "plt.figure(figsize = (10,7))\n",
        "plt.plot(cancer_history.history['loss'], color = 'blue')\n",
        "plt.plot(cancer_history.history['val_loss'], color = 'red')\n",
        "# plt.ylim((0,3))\n",
        "plt.title('Model loss')\n",
        "plt.ylabel('Loss')\n",
        "plt.xlabel('Epoch')\n",
        "plt.legend(['Train', 'Validation'], loc='upper left')\n",
        "plt.show()"
      ],
      "execution_count": 10,
      "outputs": [
        {
          "output_type": "display_data",
          "data": {
            "image/png": "[encoded data removed]",
            "text/plain": [
              "<Figure size 720x504 with 1 Axes>"
            ]
          },
          "metadata": {
            "tags": [],
            "needs_background": "light"
          }
        },
        {
          "output_type": "display_data",
          "data": {
            "image/png": "[encoded data removed]",
            "text/plain": [
              "<Figure size 720x504 with 1 Axes>"
            ]
          },
          "metadata": {
            "tags": [],
            "needs_background": "light"
          }
        }
      ]
    },
    {
      "cell_type": "code",
      "metadata": {
        "colab_type": "code",
        "id": "dxztPM_tFxJC",
        "colab": {
          "base_uri": "https://localhost:8080/",
          "height": 70
        },
        "outputId": "8941ceb2-f693-48b7-c421-74f065676461"
      },
      "source": [
        "cancer_test_acc = nn_cancer.evaluate(x_test, y_test)[1]\n",
        "print('The test accuracy is', cancer_test_acc)"
      ],
      "execution_count": 11,
      "outputs": [
        {
          "output_type": "stream",
          "text": [
            "2/2 [==============================] - 0s 2ms/step - loss: 0.0603 - accuracy: 1.0000\n",
            "The test accuracy is 1.0\n"
          ],
          "name": "stdout"
        }
      ]
    }
  ]
}