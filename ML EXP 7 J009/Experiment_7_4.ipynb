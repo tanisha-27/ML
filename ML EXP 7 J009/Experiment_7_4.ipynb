{
  "nbformat": 4,
  "nbformat_minor": 0,
  "metadata": {
    "colab": {
      "name": "Experiment_7_4.ipynb",
      "provenance": [],
      "authorship_tag": "ABX9TyOU300IRX620IHIp+VtTbHN",
      "include_colab_link": true
    },
    "kernelspec": {
      "name": "python3",
      "display_name": "Python 3"
    }
  },
  "cells": [
    {
      "cell_type": "markdown",
      "metadata": {
        "id": "view-in-github",
        "colab_type": "text"
      },
      "source": [
        "<a href=\"https://colab.research.google.com/github/ParishaKB/ML/blob/master/Experiment_7/Experiment_7_4.ipynb\" target=\"_parent\"><img src=\"https://colab.research.google.com/assets/colab-badge.svg\" alt=\"Open In Colab\"/></a>"
      ]
    },
    {
      "cell_type": "code",
      "metadata": {
        "colab_type": "code",
        "id": "qRvOZy6cUcmR",
        "colab": {}
      },
      "source": [
        "import pandas as pd\n",
        "import numpy as np\n",
        "from sklearn.datasets import fetch_covtype, fetch_kddcup99, fetch_lfw_pairs, fetch_lfw_people, fetch_olivetti_faces\n",
        "from sklearn.datasets import fetch_rcv1, load_breast_cancer, load_digits, load_wine"
      ],
      "execution_count": 1,
      "outputs": []
    },
    {
      "cell_type": "code",
      "metadata": {
        "colab_type": "code",
        "id": "Md0CGMe8XZAr",
        "colab": {}
      },
      "source": [
        "from sklearn.model_selection import train_test_split\n",
        "from sklearn.preprocessing import LabelEncoder, StandardScaler\n",
        "from scipy.sparse import csr_matrix\n",
        "import matplotlib.pyplot as plt"
      ],
      "execution_count": 2,
      "outputs": []
    },
    {
      "cell_type": "code",
      "metadata": {
        "colab_type": "code",
        "id": "J2HN_WLXatPP",
        "colab": {}
      },
      "source": [
        "from keras import models\n",
        "from keras import layers\n",
        "from keras.utils import to_categorical"
      ],
      "execution_count": 3,
      "outputs": []
    },
    {
      "cell_type": "markdown",
      "metadata": {
        "colab_type": "text",
        "id": "TNPLboC_1sli"
      },
      "source": [
        "Wine Dataset"
      ]
    },
    {
      "cell_type": "code",
      "metadata": {
        "colab_type": "code",
        "id": "DfodpdkP1slj",
        "colab": {}
      },
      "source": [
        "wine = load_wine()\n",
        "x_load_wine = wine.data\n",
        "y_load_wine = wine.target"
      ],
      "execution_count": 4,
      "outputs": []
    },
    {
      "cell_type": "code",
      "metadata": {
        "colab_type": "code",
        "id": "bqr6BXUs1sll",
        "colab": {
          "base_uri": "https://localhost:8080/",
          "height": 50
        },
        "outputId": "38373665-062c-498c-e170-29df47128881"
      },
      "source": [
        "x_wine = pd.DataFrame(x_load_wine)\n",
        "y_wine = pd.DataFrame(y_load_wine)\n",
        "print(x_wine.shape)\n",
        "print(y_wine.shape)"
      ],
      "execution_count": 5,
      "outputs": [
        {
          "output_type": "stream",
          "text": [
            "(178, 13)\n",
            "(178, 1)\n"
          ],
          "name": "stdout"
        }
      ]
    },
    {
      "cell_type": "code",
      "metadata": {
        "colab_type": "code",
        "id": "2Bh3RkXb1sln",
        "colab": {}
      },
      "source": [
        "sc = StandardScaler()\n",
        "x_wine = pd.DataFrame(sc.fit_transform(x_wine))"
      ],
      "execution_count": 6,
      "outputs": []
    },
    {
      "cell_type": "code",
      "metadata": {
        "colab_type": "code",
        "id": "1w-fMWoJ1slo",
        "colab": {
          "base_uri": "https://localhost:8080/",
          "height": 67
        },
        "outputId": "73a85618-ad11-4edd-99de-779e8575680f"
      },
      "source": [
        "y_wine = to_categorical(y_wine)\n",
        "x_train, x_test, y_train, y_test = train_test_split(x_wine, y_wine, test_size = 0.2, shuffle = True)\n",
        "x_dev, x_test, y_dev, y_test = train_test_split(x_test, y_test, test_size = 0.5, shuffle = True)\n",
        "print(x_train.shape, y_train.shape)\n",
        "print(x_dev.shape, y_dev.shape)\n",
        "print(x_test.shape, y_test.shape)"
      ],
      "execution_count": 7,
      "outputs": [
        {
          "output_type": "stream",
          "text": [
            "(142, 13) (142, 3)\n",
            "(18, 13) (18, 3)\n",
            "(18, 13) (18, 3)\n"
          ],
          "name": "stdout"
        }
      ]
    },
    {
      "cell_type": "code",
      "metadata": {
        "colab_type": "code",
        "id": "fe-3p9o41slr",
        "colab": {}
      },
      "source": [
        "nn_wine = models.Sequential()\n",
        "\n",
        "nn_wine.add(layers.Dense(128, activation = 'relu', input_shape = (13, )))\n",
        "nn_wine.add(layers.Dense(32, activation = 'relu'))\n",
        "nn_wine.add(layers.Dense(3, activation = 'sigmoid'))\n",
        "\n",
        "nn_wine.compile(optimizer = 'sgd', loss = 'binary_crossentropy', metrics = ['accuracy'])"
      ],
      "execution_count": 8,
      "outputs": []
    },
    {
      "cell_type": "code",
      "metadata": {
        "colab_type": "code",
        "id": "JQdlOSkG1sls",
        "colab": {
          "base_uri": "https://localhost:8080/",
          "height": 1000
        },
        "outputId": "e72f852c-e89e-443c-98b2-2c4b53d46552"
      },
      "source": [
        "wine_history = nn_wine.fit(x_train, y_train, epochs = 75, validation_data = (x_dev, y_dev))\n",
        "\n",
        "wine_dev_acc = nn_wine.evaluate(x_dev, y_dev)[1]\n",
        "print('The dev accuracy is', wine_dev_acc)"
      ],
      "execution_count": 9,
      "outputs": [
        {
          "output_type": "stream",
          "text": [
            "Epoch 1/75\n",
            "5/5 [==============================] - 0s 36ms/step - loss: 0.7330 - accuracy: 0.3028 - val_loss: 0.6920 - val_accuracy: 0.3889\n",
            "Epoch 2/75\n",
            "5/5 [==============================] - 0s 4ms/step - loss: 0.7218 - accuracy: 0.3099 - val_loss: 0.6813 - val_accuracy: 0.3889\n",
            "Epoch 3/75\n",
            "5/5 [==============================] - 0s 4ms/step - loss: 0.7110 - accuracy: 0.3099 - val_loss: 0.6713 - val_accuracy: 0.4444\n",
            "Epoch 4/75\n",
            "5/5 [==============================] - 0s 4ms/step - loss: 0.7007 - accuracy: 0.3239 - val_loss: 0.6617 - val_accuracy: 0.4444\n",
            "Epoch 5/75\n",
            "5/5 [==============================] - 0s 5ms/step - loss: 0.6907 - accuracy: 0.3521 - val_loss: 0.6525 - val_accuracy: 0.4444\n",
            "Epoch 6/75\n",
            "5/5 [==============================] - 0s 5ms/step - loss: 0.6813 - accuracy: 0.3732 - val_loss: 0.6438 - val_accuracy: 0.4444\n",
            "Epoch 7/75\n",
            "5/5 [==============================] - 0s 4ms/step - loss: 0.6724 - accuracy: 0.4014 - val_loss: 0.6353 - val_accuracy: 0.4444\n",
            "Epoch 8/75\n",
            "5/5 [==============================] - 0s 4ms/step - loss: 0.6640 - accuracy: 0.4155 - val_loss: 0.6270 - val_accuracy: 0.5000\n",
            "Epoch 9/75\n",
            "5/5 [==============================] - 0s 4ms/step - loss: 0.6558 - accuracy: 0.4366 - val_loss: 0.6192 - val_accuracy: 0.5000\n",
            "Epoch 10/75\n",
            "5/5 [==============================] - 0s 4ms/step - loss: 0.6476 - accuracy: 0.4718 - val_loss: 0.6116 - val_accuracy: 0.5000\n",
            "Epoch 11/75\n",
            "5/5 [==============================] - 0s 4ms/step - loss: 0.6398 - accuracy: 0.4930 - val_loss: 0.6040 - val_accuracy: 0.5000\n",
            "Epoch 12/75\n",
            "5/5 [==============================] - 0s 5ms/step - loss: 0.6323 - accuracy: 0.5211 - val_loss: 0.5967 - val_accuracy: 0.5556\n",
            "Epoch 13/75\n",
            "5/5 [==============================] - 0s 4ms/step - loss: 0.6249 - accuracy: 0.5352 - val_loss: 0.5893 - val_accuracy: 0.6667\n",
            "Epoch 14/75\n",
            "5/5 [==============================] - 0s 4ms/step - loss: 0.6178 - accuracy: 0.5634 - val_loss: 0.5823 - val_accuracy: 0.6667\n",
            "Epoch 15/75\n",
            "5/5 [==============================] - 0s 4ms/step - loss: 0.6108 - accuracy: 0.5775 - val_loss: 0.5752 - val_accuracy: 0.6667\n",
            "Epoch 16/75\n",
            "5/5 [==============================] - 0s 6ms/step - loss: 0.6040 - accuracy: 0.5986 - val_loss: 0.5683 - val_accuracy: 0.6667\n",
            "Epoch 17/75\n",
            "5/5 [==============================] - 0s 5ms/step - loss: 0.5973 - accuracy: 0.6197 - val_loss: 0.5618 - val_accuracy: 0.6667\n",
            "Epoch 18/75\n",
            "5/5 [==============================] - 0s 5ms/step - loss: 0.5908 - accuracy: 0.6408 - val_loss: 0.5555 - val_accuracy: 0.6667\n",
            "Epoch 19/75\n",
            "5/5 [==============================] - 0s 5ms/step - loss: 0.5843 - accuracy: 0.6479 - val_loss: 0.5490 - val_accuracy: 0.7222\n",
            "Epoch 20/75\n",
            "5/5 [==============================] - 0s 6ms/step - loss: 0.5780 - accuracy: 0.6479 - val_loss: 0.5427 - val_accuracy: 0.7222\n",
            "Epoch 21/75\n",
            "5/5 [==============================] - 0s 4ms/step - loss: 0.5717 - accuracy: 0.6620 - val_loss: 0.5367 - val_accuracy: 0.7222\n",
            "Epoch 22/75\n",
            "5/5 [==============================] - 0s 4ms/step - loss: 0.5656 - accuracy: 0.6690 - val_loss: 0.5306 - val_accuracy: 0.7222\n",
            "Epoch 23/75\n",
            "5/5 [==============================] - 0s 6ms/step - loss: 0.5596 - accuracy: 0.6831 - val_loss: 0.5245 - val_accuracy: 0.7222\n",
            "Epoch 24/75\n",
            "5/5 [==============================] - 0s 4ms/step - loss: 0.5536 - accuracy: 0.6901 - val_loss: 0.5188 - val_accuracy: 0.7222\n",
            "Epoch 25/75\n",
            "5/5 [==============================] - 0s 4ms/step - loss: 0.5478 - accuracy: 0.7183 - val_loss: 0.5129 - val_accuracy: 0.7222\n",
            "Epoch 26/75\n",
            "5/5 [==============================] - 0s 4ms/step - loss: 0.5421 - accuracy: 0.7324 - val_loss: 0.5073 - val_accuracy: 0.7222\n",
            "Epoch 27/75\n",
            "5/5 [==============================] - 0s 4ms/step - loss: 0.5364 - accuracy: 0.7465 - val_loss: 0.5021 - val_accuracy: 0.7778\n",
            "Epoch 28/75\n",
            "5/5 [==============================] - 0s 4ms/step - loss: 0.5310 - accuracy: 0.7606 - val_loss: 0.4966 - val_accuracy: 0.7778\n",
            "Epoch 29/75\n",
            "5/5 [==============================] - 0s 4ms/step - loss: 0.5256 - accuracy: 0.7676 - val_loss: 0.4913 - val_accuracy: 0.7778\n",
            "Epoch 30/75\n",
            "5/5 [==============================] - 0s 4ms/step - loss: 0.5202 - accuracy: 0.7746 - val_loss: 0.4859 - val_accuracy: 0.7778\n",
            "Epoch 31/75\n",
            "5/5 [==============================] - 0s 5ms/step - loss: 0.5150 - accuracy: 0.8099 - val_loss: 0.4806 - val_accuracy: 0.8889\n",
            "Epoch 32/75\n",
            "5/5 [==============================] - 0s 5ms/step - loss: 0.5098 - accuracy: 0.8380 - val_loss: 0.4753 - val_accuracy: 0.8889\n",
            "Epoch 33/75\n",
            "5/5 [==============================] - 0s 5ms/step - loss: 0.5046 - accuracy: 0.8451 - val_loss: 0.4700 - val_accuracy: 0.8889\n",
            "Epoch 34/75\n",
            "5/5 [==============================] - 0s 4ms/step - loss: 0.4996 - accuracy: 0.8521 - val_loss: 0.4647 - val_accuracy: 0.8889\n",
            "Epoch 35/75\n",
            "5/5 [==============================] - 0s 5ms/step - loss: 0.4946 - accuracy: 0.8592 - val_loss: 0.4596 - val_accuracy: 0.8889\n",
            "Epoch 36/75\n",
            "5/5 [==============================] - 0s 5ms/step - loss: 0.4896 - accuracy: 0.8592 - val_loss: 0.4546 - val_accuracy: 0.8889\n",
            "Epoch 37/75\n",
            "5/5 [==============================] - 0s 5ms/step - loss: 0.4848 - accuracy: 0.8592 - val_loss: 0.4497 - val_accuracy: 0.8889\n",
            "Epoch 38/75\n",
            "5/5 [==============================] - 0s 5ms/step - loss: 0.4800 - accuracy: 0.8592 - val_loss: 0.4446 - val_accuracy: 0.8889\n",
            "Epoch 39/75\n",
            "5/5 [==============================] - 0s 4ms/step - loss: 0.4753 - accuracy: 0.8592 - val_loss: 0.4399 - val_accuracy: 0.8889\n",
            "Epoch 40/75\n",
            "5/5 [==============================] - 0s 4ms/step - loss: 0.4706 - accuracy: 0.8592 - val_loss: 0.4353 - val_accuracy: 0.8889\n",
            "Epoch 41/75\n",
            "5/5 [==============================] - 0s 5ms/step - loss: 0.4659 - accuracy: 0.8662 - val_loss: 0.4306 - val_accuracy: 0.9444\n",
            "Epoch 42/75\n",
            "5/5 [==============================] - 0s 4ms/step - loss: 0.4613 - accuracy: 0.8873 - val_loss: 0.4260 - val_accuracy: 0.9444\n",
            "Epoch 43/75\n",
            "5/5 [==============================] - 0s 4ms/step - loss: 0.4568 - accuracy: 0.8873 - val_loss: 0.4214 - val_accuracy: 0.9444\n",
            "Epoch 44/75\n",
            "5/5 [==============================] - 0s 4ms/step - loss: 0.4522 - accuracy: 0.8944 - val_loss: 0.4167 - val_accuracy: 0.9444\n",
            "Epoch 45/75\n",
            "5/5 [==============================] - 0s 4ms/step - loss: 0.4477 - accuracy: 0.8944 - val_loss: 0.4121 - val_accuracy: 0.9444\n",
            "Epoch 46/75\n",
            "5/5 [==============================] - 0s 5ms/step - loss: 0.4433 - accuracy: 0.8944 - val_loss: 0.4077 - val_accuracy: 0.9444\n",
            "Epoch 47/75\n",
            "5/5 [==============================] - 0s 4ms/step - loss: 0.4389 - accuracy: 0.9014 - val_loss: 0.4033 - val_accuracy: 0.9444\n",
            "Epoch 48/75\n",
            "5/5 [==============================] - 0s 5ms/step - loss: 0.4345 - accuracy: 0.9155 - val_loss: 0.3989 - val_accuracy: 0.9444\n",
            "Epoch 49/75\n",
            "5/5 [==============================] - 0s 4ms/step - loss: 0.4303 - accuracy: 0.9155 - val_loss: 0.3945 - val_accuracy: 0.9444\n",
            "Epoch 50/75\n",
            "5/5 [==============================] - 0s 4ms/step - loss: 0.4261 - accuracy: 0.9155 - val_loss: 0.3903 - val_accuracy: 0.9444\n",
            "Epoch 51/75\n",
            "5/5 [==============================] - 0s 6ms/step - loss: 0.4219 - accuracy: 0.9155 - val_loss: 0.3861 - val_accuracy: 1.0000\n",
            "Epoch 52/75\n",
            "5/5 [==============================] - 0s 4ms/step - loss: 0.4176 - accuracy: 0.9225 - val_loss: 0.3819 - val_accuracy: 1.0000\n",
            "Epoch 53/75\n",
            "5/5 [==============================] - 0s 4ms/step - loss: 0.4135 - accuracy: 0.9296 - val_loss: 0.3778 - val_accuracy: 1.0000\n",
            "Epoch 54/75\n",
            "5/5 [==============================] - 0s 6ms/step - loss: 0.4094 - accuracy: 0.9296 - val_loss: 0.3737 - val_accuracy: 1.0000\n",
            "Epoch 55/75\n",
            "5/5 [==============================] - 0s 5ms/step - loss: 0.4054 - accuracy: 0.9296 - val_loss: 0.3696 - val_accuracy: 1.0000\n",
            "Epoch 56/75\n",
            "5/5 [==============================] - 0s 5ms/step - loss: 0.4014 - accuracy: 0.9296 - val_loss: 0.3657 - val_accuracy: 1.0000\n",
            "Epoch 57/75\n",
            "5/5 [==============================] - 0s 4ms/step - loss: 0.3974 - accuracy: 0.9366 - val_loss: 0.3618 - val_accuracy: 1.0000\n",
            "Epoch 58/75\n",
            "5/5 [==============================] - 0s 4ms/step - loss: 0.3934 - accuracy: 0.9366 - val_loss: 0.3579 - val_accuracy: 1.0000\n",
            "Epoch 59/75\n",
            "5/5 [==============================] - 0s 4ms/step - loss: 0.3895 - accuracy: 0.9366 - val_loss: 0.3541 - val_accuracy: 1.0000\n",
            "Epoch 60/75\n",
            "5/5 [==============================] - 0s 4ms/step - loss: 0.3854 - accuracy: 0.9437 - val_loss: 0.3503 - val_accuracy: 1.0000\n",
            "Epoch 61/75\n",
            "5/5 [==============================] - 0s 4ms/step - loss: 0.3815 - accuracy: 0.9437 - val_loss: 0.3465 - val_accuracy: 1.0000\n",
            "Epoch 62/75\n",
            "5/5 [==============================] - 0s 4ms/step - loss: 0.3776 - accuracy: 0.9437 - val_loss: 0.3427 - val_accuracy: 1.0000\n",
            "Epoch 63/75\n",
            "5/5 [==============================] - 0s 4ms/step - loss: 0.3737 - accuracy: 0.9507 - val_loss: 0.3388 - val_accuracy: 1.0000\n",
            "Epoch 64/75\n",
            "5/5 [==============================] - 0s 4ms/step - loss: 0.3698 - accuracy: 0.9507 - val_loss: 0.3349 - val_accuracy: 1.0000\n",
            "Epoch 65/75\n",
            "5/5 [==============================] - 0s 5ms/step - loss: 0.3659 - accuracy: 0.9507 - val_loss: 0.3312 - val_accuracy: 1.0000\n",
            "Epoch 66/75\n",
            "5/5 [==============================] - 0s 5ms/step - loss: 0.3621 - accuracy: 0.9577 - val_loss: 0.3275 - val_accuracy: 1.0000\n",
            "Epoch 67/75\n",
            "5/5 [==============================] - 0s 5ms/step - loss: 0.3582 - accuracy: 0.9577 - val_loss: 0.3239 - val_accuracy: 1.0000\n",
            "Epoch 68/75\n",
            "5/5 [==============================] - 0s 5ms/step - loss: 0.3544 - accuracy: 0.9577 - val_loss: 0.3202 - val_accuracy: 1.0000\n",
            "Epoch 69/75\n",
            "5/5 [==============================] - 0s 4ms/step - loss: 0.3506 - accuracy: 0.9577 - val_loss: 0.3167 - val_accuracy: 1.0000\n",
            "Epoch 70/75\n",
            "5/5 [==============================] - 0s 4ms/step - loss: 0.3468 - accuracy: 0.9577 - val_loss: 0.3131 - val_accuracy: 1.0000\n",
            "Epoch 71/75\n",
            "5/5 [==============================] - 0s 5ms/step - loss: 0.3428 - accuracy: 0.9648 - val_loss: 0.3095 - val_accuracy: 1.0000\n",
            "Epoch 72/75\n",
            "5/5 [==============================] - 0s 4ms/step - loss: 0.3391 - accuracy: 0.9648 - val_loss: 0.3060 - val_accuracy: 1.0000\n",
            "Epoch 73/75\n",
            "5/5 [==============================] - 0s 4ms/step - loss: 0.3352 - accuracy: 0.9648 - val_loss: 0.3025 - val_accuracy: 1.0000\n",
            "Epoch 74/75\n",
            "5/5 [==============================] - 0s 5ms/step - loss: 0.3313 - accuracy: 0.9648 - val_loss: 0.2990 - val_accuracy: 1.0000\n",
            "Epoch 75/75\n",
            "5/5 [==============================] - 0s 5ms/step - loss: 0.3274 - accuracy: 0.9648 - val_loss: 0.2955 - val_accuracy: 1.0000\n",
            "1/1 [==============================] - 0s 1ms/step - loss: 0.2955 - accuracy: 1.0000\n",
            "The dev accuracy is 1.0\n"
          ],
          "name": "stdout"
        }
      ]
    },
    {
      "cell_type": "markdown",
      "metadata": {
        "colab_type": "text",
        "id": "X2IU2Z2f1slu"
      },
      "source": [
        "Plotting Accuracy & Validation Accuracy with Epoch\n",
        "\n",
        "Plotting Loss & Validation Loss with Epoch"
      ]
    },
    {
      "cell_type": "code",
      "metadata": {
        "colab_type": "code",
        "id": "JBIjT_rO1slv",
        "colab": {
          "base_uri": "https://localhost:8080/",
          "height": 899
        },
        "outputId": "675c9e89-7563-4c2d-e194-72b2558f219b"
      },
      "source": [
        "plt.figure(figsize = (10,7))\n",
        "plt.plot(wine_history.history['accuracy'], color = 'blue')\n",
        "plt.plot(wine_history.history['val_accuracy'], color = 'red')\n",
        "plt.title('Model accuracy')\n",
        "plt.ylabel('Accuracy')\n",
        "plt.xlabel('Epoch')\n",
        "plt.legend(['Train', 'Validation'], loc='upper left')\n",
        "plt.show()\n",
        "\n",
        "plt.figure(figsize = (10,7))\n",
        "plt.plot(wine_history.history['loss'], color = 'blue')\n",
        "plt.plot(wine_history.history['val_loss'], color = 'red')\n",
        "# plt.ylim((0,3))\n",
        "plt.title('Model loss')\n",
        "plt.ylabel('Loss')\n",
        "plt.xlabel('Epoch')\n",
        "plt.legend(['Train', 'Validation'], loc='upper left')\n",
        "plt.show()"
      ],
      "execution_count": 10,
      "outputs": [
        {
          "output_type": "display_data",
          "data": {
            "image/png": "[encoded data removed]",
            "text/plain": [
              "<Figure size 720x504 with 1 Axes>"
            ]
          },
          "metadata": {
            "tags": [],
            "needs_background": "light"
          }
        },
        {
          "output_type": "display_data",
          "data": {
            "image/png": "[encoded data removed]",
            "text/plain": [
              "<Figure size 720x504 with 1 Axes>"
            ]
          },
          "metadata": {
            "tags": [],
            "needs_background": "light"
          }
        }
      ]
    },
    {
      "cell_type": "code",
      "metadata": {
        "colab_type": "code",
        "id": "i4edNRv61sly",
        "colab": {
          "base_uri": "https://localhost:8080/",
          "height": 70
        },
        "outputId": "d12f8413-7eaa-4388-b35c-8625ce4f1b28"
      },
      "source": [
        "wine_test_acc = nn_wine.evaluate(x_test, y_test)[1]\n",
        "print('The test accuracy is', wine_test_acc)"
      ],
      "execution_count": 11,
      "outputs": [
        {
          "output_type": "stream",
          "text": [
            "1/1 [==============================] - 0s 1ms/step - loss: 0.2673 - accuracy: 1.0000\n",
            "The test accuracy is 1.0\n"
          ],
          "name": "stdout"
        }
      ]
    }
  ]
}